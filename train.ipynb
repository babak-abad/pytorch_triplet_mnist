{
 "cells": [
  {
   "cell_type": "raw",
   "source": [
    "import necessary libraries"
   ],
   "metadata": {
    "collapsed": false
   }
  },
  {
   "cell_type": "code",
   "execution_count": null,
   "outputs": [],
   "source": [
    "import torchvision.transforms\n",
    "from torch.utils.data import DataLoader\n",
    "import torch.utils.data.dataloader\n",
    "from torch import nn\n",
    "from matplotlib import pyplot as plt\n",
    "from sklearn.metrics import confusion_matrix, ConfusionMatrixDisplay\n",
    "import torchsummary\n",
    "import util as utl"
   ],
   "metadata": {
    "collapsed": false
   }
  },
  {
   "cell_type": "raw",
   "source": [
    "Loading data, converting it to Tensor and creating a dataset from MNIST"
   ],
   "metadata": {
    "collapsed": false
   }
  },
  {
   "cell_type": "code",
   "execution_count": null,
   "outputs": [],
   "source": [
    "tns = torchvision.transforms.Compose([\n",
    "    torchvision.transforms.ToTensor()\n",
    "])\n",
    "ds = torchvision.datasets.MNIST(root='data/dataset', train=True, download=True, transform=tns)"
   ],
   "metadata": {
    "collapsed": false
   }
  },
  {
   "cell_type": "raw",
   "source": [
    "Separating train, validation, test (and removing some of them because it might be time consuming)\n",
    "and creating DataLoader from the"
   ],
   "metadata": {
    "collapsed": false
   }
  },
  {
   "cell_type": "code",
   "execution_count": null,
   "outputs": [],
   "source": [
    "N_TRAIN = 10000\n",
    "N_VALID = 1000\n",
    "N_TEST = 2000\n",
    "train_ds, valid_ds, test_ds, _ = \\\n",
    "    torch.utils.data.random_split(\n",
    "        ds, [N_TRAIN, N_VALID, N_TEST, len(ds) - (N_TRAIN + N_VALID + N_TEST)])\n",
    "\n",
    "train_dl = DataLoader(dataset=train_ds, batch_size=32, shuffle=True)\n",
    "valid_dl = DataLoader(dataset=valid_ds, batch_size=32, shuffle=True)\n",
    "test_dl = DataLoader(dataset=test_ds, batch_size=512, shuffle=True)\n",
    "\n"
   ],
   "metadata": {
    "collapsed": false
   }
  },
  {
   "cell_type": "raw",
   "source": [
    "Drawing some samples"
   ],
   "metadata": {
    "collapsed": false
   }
  },
  {
   "cell_type": "code",
   "execution_count": null,
   "outputs": [],
   "source": [
    "en = enumerate(train_dl)\n",
    "k, (inps, outs) = next(en)\n",
    "fig = plt.figure()\n",
    "\n",
    "for i in range(16):\n",
    "    plt.subplot(4, 4, i+1)\n",
    "    im = inps[i][0]\n",
    "    plt.imshow(im, cmap='gray')\n",
    "    plt.xticks([])\n",
    "    plt.yticks([])"
   ],
   "metadata": {
    "collapsed": false
   }
  },
  {
   "cell_type": "raw",
   "source": [
    "Making a model"
   ],
   "metadata": {
    "collapsed": false
   }
  },
  {
   "cell_type": "code",
   "execution_count": null,
   "outputs": [],
   "source": [
    "model = nn.Sequential(\n",
    "    nn.Conv2d(in_channels=1, out_channels=16, kernel_size=(3,3)),\n",
    "    nn.ReLU(),\n",
    "    nn.MaxPool2d(kernel_size=(2,2), stride=2),\n",
    "    nn.Conv2d(in_channels=16, out_channels=32, kernel_size=(3,3)),\n",
    "    nn.ReLU(),\n",
    "    nn.MaxPool2d(kernel_size=(2,2), stride=2),\n",
    "    nn.Flatten(),\n",
    "    nn.Linear(800, 10),\n",
    "    nn.Sigmoid(),\n",
    "    nn.Linear(10, 10),\n",
    "    nn.LogSoftmax())\n",
    "\n",
    "s = torchsummary.summary(model)"
   ],
   "metadata": {
    "collapsed": false
   }
  },
  {
   "cell_type": "raw",
   "source": [
    "Train the model"
   ],
   "metadata": {
    "collapsed": false
   }
  },
  {
   "cell_type": "code",
   "execution_count": null,
   "outputs": [],
   "source": [
    "trn_ls, vld_ls, bst_state = utl.train(\n",
    "    mdl=model,\n",
    "    train_dataloader=train_dl,\n",
    "    valid_dataloader=valid_dl,\n",
    "    n_epoch=10,\n",
    "    opt=torch.optim.Adam(params=model.parameters(), lr=0.01),\n",
    "    criterion=nn.CrossEntropyLoss(),\n",
    "    valid_step=1,\n",
    "    save_path='')"
   ],
   "metadata": {
    "collapsed": false
   }
  },
  {
   "cell_type": "raw",
   "source": [
    "Drawing training and validation loss during the training"
   ],
   "metadata": {
    "collapsed": false
   }
  },
  {
   "cell_type": "code",
   "execution_count": null,
   "outputs": [],
   "source": [
    "plt.plot(trn_ls)\n",
    "plt.plot(vld_ls)\n",
    "plt.legend(['train loss', 'validation loss'])\n",
    "plt.title('training procedure')\n",
    "plt.show()"
   ],
   "metadata": {
    "collapsed": false
   }
  },
  {
   "cell_type": "markdown",
   "source": [
    "Drawing some samples of the trained model\n",
    "title of each sample is its predicted value\n",
    "The title color indicated true or false predication(green or red)"
   ],
   "metadata": {
    "collapsed": false
   }
  },
  {
   "cell_type": "code",
   "execution_count": null,
   "outputs": [],
   "source": [
    "model.state_dict(bst_state)\n",
    "model.eval()\n",
    "ROWS = 10\n",
    "COLS = 10\n",
    "en = enumerate(test_dl)\n",
    "_, (inps, outs) = next(en)\n",
    "with torch.inference_mode():\n",
    "    preds = model(inps)\n",
    "\n",
    "fig = plt.figure()\n",
    "#fig.text('Predicted samples')\n",
    "for i in range(ROWS*COLS):\n",
    "    plt.subplot(ROWS, COLS, i+1)\n",
    "    im = inps[i][0]\n",
    "    plt.imshow(im, cmap='gray')\n",
    "    p = torch.argmax(preds[i]).item()\n",
    "    o = outs[i].item()\n",
    "    color = 'g'\n",
    "    if p!=o:\n",
    "        color = 'r'\n",
    "    plt.title(str(p), color=color)\n",
    "    plt.subplots_adjust(top=2)\n",
    "    plt.xticks([])\n",
    "    plt.yticks([])\n",
    "fig.show()"
   ],
   "metadata": {
    "collapsed": false
   }
  },
  {
   "cell_type": "markdown",
   "source": [
    "Drawing confusion matrix"
   ],
   "metadata": {
    "collapsed": false
   }
  },
  {
   "cell_type": "code",
   "execution_count": null,
   "outputs": [],
   "source": [
    "sum = 0.0\n",
    "\n",
    "preds = []\n",
    "labels = []\n",
    "for idx, (inps, outs) in enumerate(test_dl):\n",
    "    p = model(inps)\n",
    "    p = torch.argmax(p, 1)\n",
    "    preds.extend(p.tolist())\n",
    "    labels.extend(outs.tolist())\n",
    "\n",
    "cm = confusion_matrix(labels, preds)\n",
    "ConfusionMatrixDisplay(cm).plot(cmap='gray')"
   ],
   "metadata": {
    "collapsed": false
   }
  },
  {
   "cell_type": "markdown",
   "source": [
    "calculating accuracy"
   ],
   "metadata": {
    "collapsed": false
   }
  },
  {
   "cell_type": "code",
   "execution_count": null,
   "outputs": [],
   "source": [
    "for i in range(len(labels)):\n",
    "    if labels[i] == preds[i]:\n",
    "        sum+=1\n",
    "\n",
    "print('accuracy: ' +\n",
    "    str(sum/len(test_ds)))"
   ],
   "metadata": {
    "collapsed": false
   }
  }
 ],
 "metadata": {
  "kernelspec": {
   "display_name": "Python 3",
   "language": "python",
   "name": "python3"
  },
  "language_info": {
   "codemirror_mode": {
    "name": "ipython",
    "version": 2
   },
   "file_extension": ".py",
   "mimetype": "text/x-python",
   "name": "python",
   "nbconvert_exporter": "python",
   "pygments_lexer": "ipython2",
   "version": "2.7.6"
  }
 },
 "nbformat": 4,
 "nbformat_minor": 0
}
